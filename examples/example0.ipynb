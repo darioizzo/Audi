{
 "cells": [
  {
   "cell_type": "code",
   "execution_count": 1,
   "metadata": {
    "collapsed": true
   },
   "outputs": [],
   "source": [
    "from pyaudi import gdual, sin, cos, tan"
   ]
  },
  {
   "cell_type": "markdown",
   "metadata": {},
   "source": [
    "Define three symbolic variables, we want derivatives up to total order 3:"
   ]
  },
  {
   "cell_type": "code",
   "execution_count": 2,
   "metadata": {
    "collapsed": false
   },
   "outputs": [],
   "source": [
    "x,y,z = [gdual(_,3) for _ in \"xyz\"]"
   ]
  },
  {
   "cell_type": "markdown",
   "metadata": {},
   "source": [
    "Create a function of these variables, using the standard arithmetic operators and PyAuDi's functions:"
   ]
  },
  {
   "cell_type": "code",
   "execution_count": 3,
   "metadata": {
    "collapsed": false
   },
   "outputs": [
    {
     "data": {
      "text/latex": [
       "\\[ -{dz}+0.166667{dz}^{3}+{dx}^{2}-2{dx}{dy}+2{dx}{dy}^{2}+0.666667{dx}^{3}+2{dx}+\\mathcal{O}\\left(4\\right) \\]"
      ],
      "text/plain": [
       "-dz+0.166667*dz**3+dx**2-2*dx*dy+2*dx*dy**2+0.666667*dx**3+2*dx"
      ]
     },
     "execution_count": 3,
     "metadata": {},
     "output_type": "execute_result"
    }
   ],
   "source": [
    "f = x*x+2*tan(x/(y+1))-sin(z)\n",
    "f"
   ]
  },
  {
   "cell_type": "markdown",
   "metadata": {},
   "source": [
    "We can now extract the values of the derivatives of $f\\left(x,y,z\\right)$ with respect to $x,y,z$ in the point $\\left(0,0,0\\right)$. For instance, this is the value of $\\frac{\\partial f}{\\partial z}$:"
   ]
  },
  {
   "cell_type": "code",
   "execution_count": 4,
   "metadata": {
    "collapsed": false
   },
   "outputs": [
    {
     "data": {
      "text/plain": [
       "-1.0"
      ]
     },
     "execution_count": 4,
     "metadata": {},
     "output_type": "execute_result"
    }
   ],
   "source": [
    "f.get_derivative([0,0,1])"
   ]
  },
  {
   "cell_type": "markdown",
   "metadata": {},
   "source": [
    "This is $\\frac{\\partial^2 f}{\\partial x \\partial y}$:"
   ]
  },
  {
   "cell_type": "code",
   "execution_count": 5,
   "metadata": {
    "collapsed": false
   },
   "outputs": [
    {
     "data": {
      "text/plain": [
       "-2.0"
      ]
     },
     "execution_count": 5,
     "metadata": {},
     "output_type": "execute_result"
    }
   ],
   "source": [
    "f.get_derivative([1,1,0])"
   ]
  },
  {
   "cell_type": "markdown",
   "metadata": {},
   "source": [
    "By re-defining $x,y,z$, we can compute the derivatives in another point. For instance, for the computation of the derivatives in the point $\\left(1,2,3\\right)$, we write:"
   ]
  },
  {
   "cell_type": "code",
   "execution_count": 6,
   "metadata": {
    "collapsed": false
   },
   "outputs": [
    {
     "data": {
      "text/latex": [
       "\\[ 0.07056{dz}^{2}+0.989992{dz}-0.164999{dz}^{3}-0.0354271{dy}^{3}+1.08617{dx}^{2}+0.0925294{dy}^{2}-0.306312{dx}{dy}-0.248865{dy}+0.133785{dx}{dy}^{2}+0.0375972{dx}^{3}+1.55139+2.74659{dx}-0.0950441{dx}^{2}{dy}+\\mathcal{O}\\left(4\\right) \\]"
      ],
      "text/plain": [
       "0.07056*dz**2+0.989992*dz-0.164999*dz**3-0.0354271*dy**3+1.08617*dx**2+0.0925294*dy**2-0.306312*dx*dy-0.248865*dy+0.133785*dx*dy**2+0.0375972*dx**3+1.55139+2.74659*dx-0.0950441*dx**2*dy"
      ]
     },
     "execution_count": 6,
     "metadata": {},
     "output_type": "execute_result"
    }
   ],
   "source": [
    "x = gdual(1.,\"x\",3)\n",
    "y = gdual(2.,\"y\",3)\n",
    "z = gdual(3.,\"z\",3)\n",
    "f = x*x+2*tan(x/(y+1))-sin(z)\n",
    "f"
   ]
  },
  {
   "cell_type": "markdown",
   "metadata": {},
   "source": [
    "Now $\\frac{\\partial f}{\\partial z}$:"
   ]
  },
  {
   "cell_type": "code",
   "execution_count": 7,
   "metadata": {
    "collapsed": false
   },
   "outputs": [
    {
     "data": {
      "text/plain": [
       "0.9899924966004454"
      ]
     },
     "execution_count": 7,
     "metadata": {},
     "output_type": "execute_result"
    }
   ],
   "source": [
    "f.get_derivative([0,0,1])"
   ]
  },
  {
   "cell_type": "markdown",
   "metadata": {},
   "source": [
    "We can verifiy the correctness by manually computing the derivative:"
   ]
  },
  {
   "cell_type": "code",
   "execution_count": 8,
   "metadata": {
    "collapsed": false
   },
   "outputs": [
    {
     "data": {
      "text/plain": [
       "0.9899924966004454"
      ]
     },
     "execution_count": 8,
     "metadata": {},
     "output_type": "execute_result"
    }
   ],
   "source": [
    "-cos(3.)"
   ]
  },
  {
   "cell_type": "code",
   "execution_count": null,
   "metadata": {
    "collapsed": true
   },
   "outputs": [],
   "source": []
  }
 ],
 "metadata": {
  "kernelspec": {
   "display_name": "Python 3",
   "language": "python",
   "name": "python3"
  },
  "language_info": {
   "codemirror_mode": {
    "name": "ipython",
    "version": 3
   },
   "file_extension": ".py",
   "mimetype": "text/x-python",
   "name": "python",
   "nbconvert_exporter": "python",
   "pygments_lexer": "ipython3",
   "version": "3.4.3"
  }
 },
 "nbformat": 4,
 "nbformat_minor": 0
}
